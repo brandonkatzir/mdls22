{
  "nbformat": 4,
  "nbformat_minor": 0,
  "metadata": {
    "colab": {
      "provenance": [],
      "authorship_tag": "ABX9TyOMMMZbJAxuRM+MXPzlzwHM",
      "include_colab_link": true
    },
    "kernelspec": {
      "name": "python3",
      "display_name": "Python 3"
    },
    "language_info": {
      "name": "python"
    }
  },
  "cells": [
    {
      "cell_type": "markdown",
      "metadata": {
        "id": "view-in-github",
        "colab_type": "text"
      },
      "source": [
        "<a href=\"https://colab.research.google.com/github/brandonkatzir/mdls22/blob/main/astro_colab.ipynb\" target=\"_parent\"><img src=\"https://colab.research.google.com/assets/colab-badge.svg\" alt=\"Open In Colab\"/></a>"
      ]
    },
    {
      "cell_type": "markdown",
      "source": [
        "# **Getting started** <br>\n",
        "You can find [the sample lesson here](https://datacarpentry.org/astronomy-python/01-query/index.html)--I just chose a random Carpentries lesson I've never used before to see how difficult it would be to set up the environment in Google Colab. <br>\n",
        "\n",
        "For this lesson, I uploaded the files into my Colab environment by clicking the file icon on the left. You can also mount your Google Drive account into the environment and choose files that way, which is useful. <br>\n",
        "\n",
        "Our first code block installs and configures Conda in Google Colab. \n",
        "\n"
      ],
      "metadata": {
        "id": "o7GavahajJIh"
      }
    },
    {
      "cell_type": "code",
      "execution_count": null,
      "metadata": {
        "colab": {
          "base_uri": "https://localhost:8080/"
        },
        "id": "dEZQ-wfggwYt",
        "outputId": "7ab6519a-3591-4b26-d4f7-bc2c24cdbae6"
      },
      "outputs": [
        {
          "output_type": "stream",
          "name": "stdout",
          "text": [
            "⏬ Downloading https://github.com/jaimergp/miniforge/releases/latest/download/Mambaforge-colab-Linux-x86_64.sh...\n",
            "📦 Installing...\n",
            "📌 Adjusting configuration...\n",
            "🩹 Patching environment...\n",
            "⏲ Done in 0:00:24\n",
            "🔁 Restarting kernel...\n"
          ]
        }
      ],
      "source": [
        "!pip install -q condacolab\n",
        "import condacolab \n",
        "condacolab.install()"
      ]
    },
    {
      "cell_type": "markdown",
      "source": [
        "Our second code block checks the installation of Conda. If the installation was successful, you should be able to move on."
      ],
      "metadata": {
        "id": "UWCHaVK_kYvn"
      }
    },
    {
      "cell_type": "code",
      "source": [
        "import condacolab\n",
        "condacolab.check()"
      ],
      "metadata": {
        "colab": {
          "base_uri": "https://localhost:8080/"
        },
        "id": "ysMZ8PV9hIb_",
        "outputId": "9cef3c56-5fda-4547-85fe-0effc48efce3"
      },
      "execution_count": null,
      "outputs": [
        {
          "output_type": "stream",
          "name": "stdout",
          "text": [
            "✨🍰✨ Everything looks OK!\n"
          ]
        }
      ]
    },
    {
      "cell_type": "markdown",
      "source": [
        "Now, we are going to instruct Colab to set our environment to th environment.yml file we uploaded (or that we mounted via Google Drive). You can read through the file by double-clicking it on the left, which opens a pane that will list the channels and dependencies necessasry for the environment. This command did take several minutes to run."
      ],
      "metadata": {
        "id": "iP3RcoXnqWFC"
      }
    },
    {
      "cell_type": "code",
      "source": [
        "     !conda env update -n base -f environment.yml\n"
      ],
      "metadata": {
        "colab": {
          "base_uri": "https://localhost:8080/"
        },
        "id": "JD_V7EgdhRBh",
        "outputId": "cd94c6ad-1d0c-446b-d98f-25d86274b583"
      },
      "execution_count": null,
      "outputs": [
        {
          "output_type": "stream",
          "name": "stdout",
          "text": [
            "Collecting package metadata (repodata.json): - \b\b\\ \b\b| \b\b/ \b\b- \b\b\\ \b\b| \b\b/ \b\b- \b\b\\ \b\b| \b\b/ \b\b- \b\b\\ \b\b| \b\b/ \b\b- \b\b\\ \b\b| \b\b/ \b\b- \b\b\\ \b\b| \b\b/ \b\b- \b\b\\ \b\b| \b\b/ \b\b- \b\b\\ \b\b| \b\b/ \b\b- \b\b\\ \b\b| \b\b/ \b\b- \b\b\\ \b\b| \b\b/ \b\b- \b\b\\ \b\b| \b\b/ \b\b- \b\b\\ \b\b| \b\b/ \b\b- \b\b\\ \b\b| \b\b/ \b\b- \b\b\\ \b\b| \b\b/ \b\b- \b\b\\ \b\b| \b\b/ \b\b- \b\b\\ \b\b| \b\b/ \b\b- \b\b\\ \b\b| \b\b/ \b\b- \b\b\\ \b\b| \b\b/ \b\b- \b\b\\ \b\b| \b\b/ \b\b- \b\b\\ \b\b| \b\b/ \b\b- \b\b\\ \b\b| \b\b/ \b\b- \b\b\\ \b\b| \b\b/ \b\b- \b\b\\ \b\b| \b\b/ \b\b- \b\b\\ \b\b| \b\b/ \b\b- \b\b\\ \b\b| \b\b/ \b\b- \b\b\\ \b\b| \b\b/ \b\b- \b\b\\ \b\b| \b\b/ \b\b- \b\b\\ \b\b| \b\b/ \b\b- \b\b\\ \b\b| \b\b/ \b\b- \b\b\\ \b\b| \b\b/ \b\b- \b\b\\ \b\b| \b\b/ \b\b- \b\b\\ \b\b| \b\b/ \b\b- \b\b\\ \b\b| \b\b/ \b\b- \b\b\\ \b\b| \b\b/ \b\b- \b\b\\ \b\b| \b\b/ \b\b- \b\b\\ \b\b| \b\b/ \b\b- \b\b\\ \b\b| \b\b/ \b\b- \b\b\\ \b\b| \b\b/ \b\b- \b\b\\ \b\b| \b\b/ \b\b- \b\b\\ \b\b| \b\b/ \b\b- \b\b\\ \b\b| \b\b/ \b\b- \b\b\\ \b\b| \b\b/ \b\b- \b\b\\ \b\b| \b\b/ \b\b- \b\b\\ \b\b| \b\b/ \b\b- \b\b\\ \b\b| \b\b/ \b\b- \b\b\\ \b\b| \b\b/ \b\b- \b\b\\ \b\b| \b\b/ \b\b- \b\b\\ \b\b| \b\b/ \b\b- \b\b\\ \b\b| \b\b/ \b\b- \b\b\\ \b\b| \b\b/ \b\b- \b\b\\ \b\b| \b\b/ \b\b- \b\b\\ \b\b| \b\b/ \b\b- \b\b\\ \b\b| \b\b/ \b\b- \b\b\\ \b\b| \b\b/ \b\b- \b\b\\ \b\b| \b\b/ \b\b- \b\b\\ \b\b| \b\b/ \b\b- \b\b\\ \b\b| \b\b/ \b\b- \b\b\\ \b\b| \b\b/ \b\b- \b\b\\ \b\b| \b\b/ \b\b- \b\b\\ \b\b| \b\b/ \b\b- \b\b\\ \b\b| \b\b/ \b\b- \b\b\\ \b\b| \b\b/ \b\b- \b\b\\ \b\b| \b\b/ \b\b- \b\b\\ \b\b| \b\b/ \b\b- \b\b\\ \b\b| \b\b/ \b\b- \b\b\\ \b\b| \b\b/ \b\b- \b\b\\ \b\b| \b\b/ \b\b- \b\b\\ \b\b| \b\b/ \b\b- \b\b\\ \b\b| \b\b/ \b\b- \b\b\\ \b\b| \b\b/ \b\b- \b\b\\ \b\b| \b\b/ \b\b- \b\b\\ \b\b| \b\b/ \b\b- \b\b\\ \b\b| \b\b/ \b\b- \b\b\\ \b\b| \b\b/ \b\b- \b\b\\ \b\b| \b\b/ \b\b- \b\b\\ \b\b| \b\b/ \b\b- \b\b\\ \b\b| \b\b/ \b\b- \b\b\\ \b\b| \b\b/ \b\b- \b\b\\ \b\b| \b\b/ \b\b- \b\b\\ \b\b| \b\b/ \b\b- \b\b\\ \b\b| \b\b/ \b\b- \b\b\\ \b\b| \b\b/ \b\b- \b\b\\ \b\b| \b\b/ \b\b- \b\b\\ \b\b| \b\b/ \b\b- \b\b\\ \b\b| \b\b/ \b\b- \b\b\\ \b\b| \b\b/ \b\b- \b\b\\ \b\b| \b\b/ \b\b- \b\b\\ \b\b| \b\b/ \b\b- \b\b\\ \b\b| \b\b/ \b\b- \b\b\\ \b\b| \b\b/ \b\b- \b\b\\ \b\b| \b\b/ \b\b- \b\b\\ \b\b| \b\b/ \b\b- \b\b\\ \b\b| \b\b/ \b\b- \b\b\\ \b\b| \b\b/ \b\b- \b\b\\ \b\b| \b\b/ \b\b- \b\b\\ \b\b| \b\b/ \b\b- \b\b\\ \b\b| \b\b/ \b\b- \b\b\\ \b\b| \b\b/ \b\b- \b\b\\ \b\b| \b\b/ \b\b- \b\b\\ \b\b| \b\b/ \b\b- \b\b\\ \b\b| \b\b/ \b\b- \b\b\\ \b\b| \b\b/ \b\b- \b\b\\ \b\b| \b\b/ \b\b- \b\b\\ \b\b| \b\b/ \b\b- \b\b\\ \b\b| \b\b/ \b\b- \b\b\\ \b\b| \b\b/ \b\b- \b\b\\ \b\b| \b\b/ \b\b- \b\b\\ \b\b| \b\b/ \b\b- \b\b\\ \b\b| \b\b/ \b\b- \b\b\\ \b\b| \b\b/ \b\b- \b\b\\ \b\b| \b\b/ \b\b- \b\b\\ \b\b| \b\b/ \b\b- \b\b\\ \b\b| \b\b/ \b\b- \b\b\\ \b\b| \b\b/ \b\b- \b\b\\ \b\b| \b\b/ \b\b- \b\b\\ \b\b| \b\b/ \b\b- \b\b\\ \b\b| \b\b/ \b\b- \b\b\\ \b\b| \b\b/ \b\b- \b\b\\ \b\b| \b\b/ \b\b- \b\b\\ \b\b| \b\b/ \b\b- \b\b\\ \b\b| \b\b/ \b\b- \b\b\\ \b\b| \b\b/ \b\b- \b\b\\ \b\b| \b\b/ \b\b- \b\b\\ \b\b| \b\b/ \b\b- \b\b\\ \b\b| \b\b/ \b\b- \b\b\\ \b\b| \b\b/ \b\b- \b\b\\ \b\b| \b\b/ \b\b- \b\b\\ \b\b| \b\b/ \b\b- \b\b\\ \b\b| \b\b/ \b\b- \b\b\\ \b\b| \b\b/ \b\b- \b\b\\ \b\b| \b\b/ \b\b- \b\b\\ \b\b| \b\b/ \b\b- \b\b\\ \b\b| \b\b/ \b\b- \b\b\\ \b\b| \b\b/ \b\b- \b\b\\ \b\b| \b\b/ \b\b- \b\b\\ \b\b| \b\b/ \b\b- \b\b\\ \b\b| \b\b/ \b\b- \b\b\\ \b\b| \b\b/ \b\b- \b\b\\ \b\b| \b\b/ \b\b- \b\b\\ \b\b| \b\b/ \b\b- \b\b\\ \b\b| \b\b/ \b\b- \b\b\\ \b\b| \b\b/ \b\b- \b\b\\ \b\b| \b\b/ \b\b- \b\b\\ \b\b| \b\b/ \b\b- \b\b\\ \b\b| \b\b/ \b\b- \b\b\\ \b\b| \b\b/ \b\b- \b\b\\ \b\b| \b\b/ \b\b- \b\b\\ \b\b| \b\b/ \b\b- \b\b\\ \b\b| \b\b/ \b\b- \b\b\\ \b\b| \b\b/ \b\b- \b\b\\ \b\b| \b\b/ \b\b- \b\b\\ \b\b| \b\b/ \b\b- \b\b\\ \b\b| \b\b/ \b\b- \b\b\\ \b\b| \b\b/ \b\b- \b\b\\ \b\b| \b\b/ \b\b- \b\b\\ \b\b| \b\b/ \b\b- \b\b\\ \b\b| \b\b/ \b\b- \b\b\\ \b\b| \b\b/ \b\b- \b\b\\ \b\b| \b\b/ \b\b- \b\b\\ \b\b| \b\b/ \b\b- \b\b\\ \b\b| \b\b/ \b\b- \b\b\\ \b\b| \b\b/ \b\b- \b\b\\ \b\b| \b\b/ \b\b- \b\b\\ \b\b| \b\b/ \b\b- \b\b\\ \b\b| \b\b/ \b\b- \b\b\\ \b\b| \b\b/ \b\b- \b\b\\ \b\b| \b\b/ \b\b- \b\b\\ \b\b| \b\b/ \b\b- \b\b\\ \b\b| \b\b/ \b\b- \b\b\\ \b\b| \b\b/ \b\b- \b\b\\ \b\b| \b\b/ \b\b- \b\b\\ \b\b| \b\b/ \b\b- \b\b\\ \b\b| \b\b/ \b\b- \b\b\\ \b\b| \b\b/ \b\b- \b\b\\ \b\b| \b\b/ \b\b- \b\b\\ \b\b| \b\b/ \b\b- \b\b\\ \b\b| \b\b/ \b\b- \b\b\\ \b\b| \b\b/ \b\b- \b\b\\ \b\b| \b\b/ \b\b- \b\b\\ \b\b| \b\b/ \b\b- \b\b\\ \b\b| \b\b/ \b\b- \b\bdone\n",
            "Solving environment: | \b\b/ \b\b- \b\b\\ \b\b| \b\b/ \b\b- \b\b\\ \b\b| \b\b/ \b\b- \b\b\\ \b\b| \b\b/ \b\b- \b\b\\ \b\b| \b\b/ \b\b- \b\b\\ \b\b| \b\b/ \b\b- \b\b\\ \b\b| \b\b/ \b\b- \b\b\\ \b\b| \b\b/ \b\b- \b\b\\ \b\b| \b\b/ \b\b- \b\b\\ \b\b| \b\b/ \b\b- \b\b\\ \b\b| \b\b/ \b\b- \b\b\\ \b\b| \b\b/ \b\b- \b\b\\ \b\b| \b\b/ \b\b- \b\b\\ \b\b| \b\b/ \b\b- \b\b\\ \b\b| \b\b/ \b\b- \b\b\\ \b\b| \b\b/ \b\b- \b\b\\ \b\b| \b\b/ \b\b- \b\b\\ \b\b| \b\b/ \b\b- \b\b\\ \b\b| \b\b/ \b\b- \b\b\\ \b\b| \b\b/ \b\b- \b\b\\ \b\b| \b\b/ \b\b- \b\b\\ \b\b| \b\b/ \b\b- \b\b\\ \b\b| \b\b/ \b\b- \b\b\\ \b\b| \b\b/ \b\b- \b\b\\ \b\b| \b\b/ \b\b- \b\b\\ \b\b| \b\b/ \b\b- \b\b\\ \b\b| \b\b/ \b\b- \b\b\\ \b\b| \b\b/ \b\b- \b\b\\ \b\b| \b\b/ \b\b- \b\b\\ \b\b| \b\b/ \b\b- \b\b\\ \b\b| \b\b/ \b\b- \b\b\\ \b\b| \b\b/ \b\b- \b\b\\ \b\b| \b\b/ \b\b- \b\b\\ \b\b| \b\b/ \b\b- \b\b\\ \b\b| \b\b/ \b\b- \b\b\\ \b\b| \b\b/ \b\b- \b\b\\ \b\b| \b\b/ \b\b- \b\b\\ \b\b| \b\b/ \b\b- \b\b\\ \b\b| \b\b/ \b\b- \b\b\\ \b\b| \b\b/ \b\b- \b\b\\ \b\b| \b\b/ \b\b- \b\b\\ \b\b| \b\b/ \b\b- \b\b\\ \b\b| \b\b/ \b\b- \b\b\\ \b\b| \b\b/ \b\b- \b\b\\ \b\b| \b\b/ \b\b- \b\b\\ \b\b| \b\b/ \b\b- \b\b\\ \b\b| \b\b/ \b\b- \b\b\\ \b\b| \b\b/ \b\b- \b\b\\ \b\b| \b\b/ \b\b- \b\b\\ \b\b| \b\b/ \b\b- \b\b\\ \b\b| \b\b/ \b\b- \b\b\\ \b\b| \b\b/ \b\b- \b\b\\ \b\b| \b\b/ \b\b- \b\b\\ \b\b| \b\b/ \b\b- \b\b\\ \b\b| \b\b/ \b\b- \b\b\\ \b\b| \b\b/ \b\b- \b\b\\ \b\b| \b\b/ \b\b- \b\b\\ \b\b| \b\b/ \b\b- \b\b\\ \b\b| \b\b/ \b\b- \b\b\\ \b\b| \b\b/ \b\b- \b\b\\ \b\b| \b\b/ \b\b- \b\b\\ \b\b| \b\b/ \b\b- \b\b\\ \b\b| \b\b/ \b\b- \b\b\\ \b\b| \b\b/ \b\b- \b\b\\ \b\b| \b\b/ \b\b- \b\b\\ \b\b| \b\b/ \b\b- \b\b\\ \b\b| \b\b/ \b\b- \b\b\\ \b\b| \b\b/ \b\b- \b\b\\ \b\b| \b\b/ \b\b- \b\b\\ \b\b| \b\b/ \b\b- \b\b\\ \b\b| \b\b/ \b\b- \b\b\\ \b\b| \b\b/ \b\b- \b\b\\ \b\b| \b\b/ \b\b- \b\b\\ \b\b| \b\b/ \b\b- \b\b\\ \b\b| \b\b/ \b\b- \b\b\\ \b\b| \b\b/ \b\b- \b\b\\ \b\b| \b\b/ \b\b- \b\b\\ \b\b| \b\b/ \b\b- \b\b\\ \b\b| \b\b/ \b\b- \b\b\\ \b\b| \b\b/ \b\b- \b\b\\ \b\b| \b\b/ \b\b- \b\b\\ \b\b| \b\b/ \b\b- \b\b\\ \b\b| \b\b/ \b\b- \b\b\\ \b\b| \b\b/ \b\b- \b\b\\ \b\b| \b\b/ \b\b- \b\b\\ \b\b| \b\b/ \b\b- \b\b\\ \b\b| \b\b/ \b\b- \b\b\\ \b\b| \b\b/ \b\b- \b\b\\ \b\b| \b\b/ \b\b- \b\b\\ \b\b| \b\b/ \b\b- \b\b\\ \b\b| \b\b/ \b\b- \b\b\\ \b\b| \b\b/ \b\b- \b\b\\ \b\b| \b\b/ \b\b- \b\b\\ \b\b| \b\b/ \b\b- \b\b\\ \b\b| \b\b/ \b\b- \b\b\\ \b\b| \b\b/ \b\b- \b\b\\ \b\b| \b\b/ \b\b- \b\b\\ \b\b| \b\b/ \b\b- \b\b\\ \b\b| \b\b/ \b\b- \b\b\\ \b\b| \b\b/ \b\b- \b\b\\ \b\b| \b\b/ \b\b- \b\b\\ \b\b| \b\b/ \b\b- \b\b\\ \b\b| \b\b/ \b\b- \b\b\\ \b\b| \b\b/ \b\b- \b\b\\ \b\b| \b\b/ \b\b- \b\b\\ \b\b| \b\b/ \b\b- \b\b\\ \b\b| \b\b/ \b\b- \b\b\\ \b\b| \b\b/ \b\b- \b\b\\ \b\b| \b\b/ \b\b- \b\b\\ \b\b| \b\b/ \b\b- \b\b\\ \b\b| \b\b/ \b\b- \b\b\\ \b\b| \b\b/ \b\b- \b\b\\ \b\b| \b\b/ \b\b- \b\b\\ \b\b| \b\b/ \b\b- \b\b\\ \b\b| \b\b/ \b\b- \b\b\\ \b\b| \b\b/ \b\b- \b\b\\ \b\b| \b\b/ \b\b- \b\b\\ \b\b| \b\b/ \b\b- \b\b\\ \b\b| \b\b/ \b\b- \b\b\\ \b\b| \b\b/ \b\b- \b\b\\ \b\b| \b\b/ \b\b- \b\b\\ \b\b| \b\b/ \b\b- \b\b\\ \b\b| \b\b/ \b\b- \b\b\\ \b\b| \b\b/ \b\b- \b\b\\ \b\b| \b\b/ \b\b- \b\b\\ \b\b| \b\b/ \b\b- \b\b\\ \b\b| \b\b/ \b\b- \b\b\\ \b\b| \b\b/ \b\b- \b\b\\ \b\b| \b\b/ \b\b- \b\b\\ \b\b| \b\b/ \b\b- \b\b\\ \b\b| \b\b/ \b\b- \b\b\\ \b\b| \b\b/ \b\b- \b\b\\ \b\b| \b\b/ \b\b- \b\b\\ \b\b| \b\b/ \b\b- \b\b\\ \b\b| \b\b/ \b\b- \b\b\\ \b\b| \b\b/ \b\b- \b\b\\ \b\b| \b\b/ \b\b- \b\b\\ \b\b| \b\b/ \b\b- \b\b\\ \b\b| \b\b/ \b\b- \b\b\\ \b\b| \b\b/ \b\b- \b\b\\ \b\b| \b\b/ \b\b- \b\b\\ \b\b| \b\b/ \b\b- \b\b\\ \b\b| \b\b/ \b\b- \b\b\\ \b\b| \b\b/ \b\b- \b\b\\ \b\b| \b\b/ \b\b- \b\b\\ \b\b| \b\b/ \b\b- \b\b\\ \b\b| \b\b/ \b\b- \b\b\\ \b\b| \b\b/ \b\b- \b\b\\ \b\b| \b\b/ \b\b- \b\b\\ \b\b| \b\b/ \b\b- \b\b\\ \b\b| \b\b/ \b\b- \b\b\\ \b\b| \b\b/ \b\b- \b\b\\ \b\b| \b\b/ \b\b- \b\b\\ \b\b| \b\b/ \b\b- \b\b\\ \b\b| \b\b/ \b\b- \b\b\\ \b\b| \b\b/ \b\b- \b\b\\ \b\b| \b\b/ \b\b- \b\b\\ \b\b| \b\b/ \b\b- \b\b\\ \b\b| \b\b/ \b\b- \b\b\\ \b\b| \b\b/ \b\b- \b\b\\ \b\b| \b\b/ \b\b- \b\b\\ \b\b| \b\b/ \b\b- \b\b\\ \b\b| \b\b/ \b\b- \b\b\\ \b\b| \b\b/ \b\b- \b\b\\ \b\b| \b\b/ \b\b- \b\b\\ \b\b| \b\b/ \b\b- \b\b\\ \b\b| \b\b/ \b\b- \b\b\\ \b\b| \b\b/ \b\b- \b\b\\ \b\b| \b\b/ \b\b- \b\b\\ \b\b| \b\b/ \b\b- \b\b\\ \b\b| \b\b/ \b\b- \b\b\\ \b\b| \b\b/ \b\b- \b\b\\ \b\b| \b\b/ \b\b- \b\b\\ \b\b| \b\b/ \b\b- \b\b\\ \b\b| \b\b/ \b\b- \b\b\\ \b\b| \b\b/ \b\b- \b\b\\ \b\b| \b\b/ \b\b- \b\b\\ \b\b| \b\b/ \b\b- \b\b\\ \b\b| \b\b/ \b\b- \b\b\\ \b\b| \b\b/ \b\b- \b\b\\ \b\b| \b\b/ \b\b- \b\b\\ \b\b| \b\b/ \b\b- \b\b\\ \b\b| \b\b/ \b\b- \b\b\\ \b\b| \b\b/ \b\b- \b\b\\ \b\b| \b\b/ \b\b- \b\b\\ \b\b| \b\b/ \b\b- \b\b\\ \b\b| \b\b/ \b\b- \b\b\\ \b\b| \b\b/ \b\b- \b\b\\ \b\b| \b\b/ \b\b- \b\b\\ \b\b| \b\b/ \b\b- \b\b\\ \b\b| \b\b/ \b\b- \b\b\\ \b\b| \b\b/ \b\b- \b\b\\ \b\b| \b\b/ \b\b- \b\b\\ \b\b| \b\b/ \b\b- \b\b\\ \b\b| \b\b/ \b\b- \b\b\\ \b\b| \b\b/ \b\b- \b\b\\ \b\b| \b\b/ \b\b- \b\b\\ \b\b| \b\b/ \b\b- \b\b\\ \b\b| \b\b/ \b\b- \b\b\\ \b\b| \b\b/ \b\b- \b\b\\ \b\b| \b\b/ \b\b- \b\b\\ \b\b| \b\b/ \b\b- \b\b\\ \b\b| \b\b/ \b\b- \b\b\\ \b\b| \b\b/ \b\b- \b\b\\ \b\b| \b\b/ \b\b- \b\b\\ \b\b| \b\b/ \b\b- \b\b\\ \b\b| \b\b/ \b\b- \b\b\\ \b\b| \b\b/ \b\b- \b\b\\ \b\b| \b\b/ \b\b- \b\b\\ \b\b| \b\b/ \b\b- \b\b\\ \b\b| \b\b/ \b\b- \b\b\\ \b\b| \b\b/ \b\b- \b\b\\ \b\b| \b\b/ \b\b- \b\b\\ \b\b| \b\b/ \b\b- \b\b\\ \b\b| \b\b/ \b\b- \b\b\\ \b\b| \b\b/ \b\b- \b\b\\ \b\b| \b\b/ \b\b- \b\b\\ \b\b| \b\b/ \b\b- \b\b\\ \b\b| \b\b/ \b\b- \b\b\\ \b\b| \b\b/ \b\b- \b\b\\ \b\b| \b\b/ \b\b- \b\b\\ \b\b| \b\b/ \b\b- \b\b\\ \b\b| \b\b/ \b\b- \b\b\\ \b\b| \b\b/ \b\b- \b\b\\ \b\b| \b\b/ \b\b- \b\b\\ \b\b| \b\b/ \b\b- \b\b\\ \b\b| \b\b/ \b\b- \b\b\\ \b\b| \b\b/ \b\b- \b\b\\ \b\b| \b\b/ \b\b- \b\b\\ \b\b| \b\b/ \b\b- \b\b\\ \b\b| \b\b/ \b\b- \b\b\\ \b\b| \b\b/ \b\b- \b\b\\ \b\b| \b\b/ \b\b- \b\b\\ \b\b| \b\b/ \b\b- \b\b\\ \b\b| \b\b/ \b\b- \b\b\\ \b\b| \b\b/ \b\b- \b\b\\ \b\b| \b\b/ \b\b- \b\b\\ \b\b| \b\b/ \b\b- \b\b\\ \b\b| \b\b/ \b\b- \b\b\\ \b\b| \b\b/ \b\b- \b\b\\ \b\b| \b\b/ \b\b- \b\b\\ \b\b| \b\b/ \b\b- \b\b\\ \b\b| \b\b/ \b\b- \b\b\\ \b\b| \b\b/ \b\b- \b\b\\ \b\b| \b\b/ \b\b- \b\b\\ \b\b| \b\b/ \b\b- \b\b\\ \b\b| \b\b/ \b\b- \b\b\\ \b\b| \b\b/ \b\b- \b\b\\ \b\b| \b\b/ \b\b- \b\b\\ \b\b| \b\b/ \b\b- \b\b\\ \b\b| \b\b/ \b\b- \b\b\\ \b\b| \b\b/ \b\b- \b\b\\ \b\b| \b\b/ \b\b- \b\b\\ \b\b| \b\b/ \b\b- \b\b\\ \b\b| \b\b/ \b\b- \b\b\\ \b\b| \b\b/ \b\b- \b\b\\ \b\b| \b\b/ \b\b- \b\b\\ \b\b| \b\b/ \b\b- \b\b\\ \b\b| \b\b/ \b\b- \b\b\\ \b\b| \b\b/ \b\b- \b\b\\ \b\b| \b\b/ \b\b- \b\b\\ \b\b| \b\b/ \b\b- \b\b\\ \b\b| \b\b/ \b\b- \b\b\\ \b\b| \b\b/ \b\b- \b\b\\ \b\b| \b\b/ \b\b- \b\b\\ \b\b| \b\b/ \b\b- \b\b\\ \b\b| \b\b/ \b\b- \b\b\\ \b\b| \b\b/ \b\b- \b\b\\ \b\b| \b\b/ \b\b- \b\b\\ \b\b| \b\b/ \b\b- \b\b\\ \b\b| \b\b/ \b\b- \b\b\\ \b\b| \b\b/ \b\b- \b\b\\ \b\b| \b\b/ \b\b- \b\b\\ \b\b| \b\b/ \b\b- \b\b\\ \b\b| \b\b/ \b\b- \b\b\\ \b\b| \b\b/ \b\b- \b\b\\ \b\b| \b\b/ \b\b- \b\b\\ \b\b| \b\b/ \b\b- \b\b\\ \b\b| \b\b/ \b\b- \b\b\\ \b\b| \b\b/ \b\b- \b\b\\ \b\b| \b\b/ \b\b- \b\b\\ \b\b| \b\b/ \b\b- \b\b\\ \b\b| \b\b/ \b\b- \b\b\\ \b\b| \b\b/ \b\b- \b\b\\ \b\b| \b\b/ \b\b- \b\b\\ \b\b| \b\b/ \b\b- \b\b\\ \b\b| \b\b/ \b\b- \b\b\\ \b\b| \b\b/ \b\b- \b\b\\ \b\b| \b\b/ \b\b- \b\b\\ \b\b| \b\b/ \b\b- \b\b\\ \b\b| \b\b/ \b\b- \b\b\\ \b\b| \b\b/ \b\b- \b\b\\ \b\b| \b\b/ \b\b- \b\b\\ \b\b| \b\b/ \b\b- \b\b\\ \b\b| \b\b/ \b\b- \b\b\\ \b\b| \b\b/ \b\b- \b\b\\ \b\b| \b\b/ \b\b- \b\b\\ \b\b| \b\b/ \b\b- \b\b\\ \b\b| \b\b/ \b\b- \b\b\\ \b\b| \b\b/ \b\b- \b\b\\ \b\b| \b\b/ \b\b- \b\b\\ \b\b| \b\b/ \b\b- \b\b\\ \b\b| \b\b/ \b\b- \b\b\\ \b\b| \b\b/ \b\b- \b\b\\ \b\b| \b\b/ \b\b- \b\b\\ \b\b| \b\b/ \b\b- \b\b\\ \b\b| \b\b/ \b\b- \b\b\\ \b\b| \b\b/ \b\b- \b\b\\ \b\b| \b\b/ \b\b- \b\b\\ \b\b| \b\b/ \b\b- \b\b\\ \b\b| \b\b/ \b\b- \b\b\\ \b\b| \b\b/ \b\b- \b\b\\ \b\b| \b\b/ \b\b- \b\b\\ \b\b| \b\b/ \b\b- \b\b\\ \b\b| \b\b/ \b\b- \b\b\\ \b\b| \b\b/ \b\b- \b\b\\ \b\b| \b\b/ \b\b- \b\b\\ \b\b| \b\b/ \b\b- \b\b\\ \b\b| \b\b/ \b\b- \b\b\\ \b\b| \b\b/ \b\b- \b\b\\ \b\b| \b\b/ \b\b- \b\b\\ \b\b| \b\b/ \b\b- \b\b\\ \b\b| \b\b/ \b\b- \b\b\\ \b\b| \b\b/ \b\b- \b\b\\ \b\b| \b\b/ \b\b- \b\b\\ \b\b| \b\b/ \b\b- \b\b\\ \b\b| \b\b/ \b\b- \b\b\\ \b\b| \b\b/ \b\b- \b\b\\ \b\b| \b\b/ \b\b- \b\b\\ \b\b| \b\b/ \b\b- \b\b\\ \b\b| \b\b/ \b\b- \b\b\\ \b\b| \b\b/ \b\b- \b\b\\ \b\b| \b\b/ \b\b- \b\b\\ \b\b| \b\b/ \b\b- \b\b\\ \b\b| \b\b/ \b\b- \b\b\\ \b\b| \b\b/ \b\b- \b\b\\ \b\b| \b\b/ \b\b- \b\b\\ \b\b| \b\b/ \b\b- \b\b\\ \b\b| \b\b/ \b\b- \b\b\\ \b\b| \b\b/ \b\b- \b\b\\ \b\b| \b\b/ \b\b- \b\b\\ \b\b| \b\b/ \b\b- \b\b\\ \b\b| \b\b/ \b\b- \b\b\\ \b\b| \b\b/ \b\b- \b\b\\ \b\b| \b\b/ \b\b- \b\b\\ \b\b| \b\b/ \b\b- \b\b\\ \b\b| \b\b/ \b\b- \b\b\\ \b\b| \b\b/ \b\b- \b\b\\ \b\b| \b\b/ \b\b- \b\b\\ \b\b| \b\b/ \b\b- \b\b\\ \b\b| \b\b/ \b\b- \b\b\\ \b\b| \b\b/ \b\b- \b\b\\ \b\b| \b\b/ \b\b- \b\b\\ \b\b| \b\b/ \b\b- \b\b\\ \b\b| \b\b/ \b\b- \b\b\\ \b\b| \b\b/ \b\b- \b\b\\ \b\b| \b\b/ \b\b- \b\b\\ \b\b| \b\b/ \b\b- \b\b\\ \b\b| \b\b/ \b\b- \b\b\\ \b\b| \b\b/ \b\b- \b\b\\ \b\b| \b\b/ \b\b- \b\b\\ \b\b| \b\b/ \b\b- \b\b\\ \b\b| \b\b/ \b\b- \b\b\\ \b\b| \b\b/ \b\b- \b\b\\ \b\b| \b\b/ \b\b- \b\b\\ \b\b| \b\b/ \b\b- \b\b\\ \b\b| \b\b/ \b\b- \b\b\\ \b\b| \b\b/ \b\b- \b\b\\ \b\b| \b\b/ \b\b- \b\b\\ \b\b| \b\b/ \b\b- \b\b\\ \b\b| \b\b/ \b\b- \b\b\\ \b\b| \b\b/ \b\b- \b\b\\ \b\b| \b\b/ \b\b- \b\b\\ \b\b| \b\b/ \b\b- \b\b\\ \b\b| \b\b/ \b\b- \b\b\\ \b\b| \b\b/ \b\b- \b\b\\ \b\b| \b\b/ \b\b- \b\b\\ \b\b| \b\b/ \b\b- \b\b\\ \b\b| \b\b/ \b\b- \b\b\\ \b\b| \b\b/ \b\b- \b\b\\ \b\b| \b\b/ \b\b- \b\b\\ \b\b| \b\b/ \b\b- \b\b\\ \b\b| \b\b/ \b\b- \b\b\\ \b\b| \b\b/ \b\b- \b\b\\ \b\b| \b\b/ \b\b- \b\b\\ \b\b| \b\b/ \b\b- \b\b\\ \b\b| \b\b/ \b\b- \b\b\\ \b\b| \b\b/ \b\b- \b\b\\ \b\b| \b\b/ \b\b- \b\b\\ \b\b| \b\b/ \b\b- \b\b\\ \b\b| \b\b/ \b\b- \b\b\\ \b\b| \b\b/ \b\b- \b\b\\ \b\b| \b\b/ \b\b- \b\b\\ \b\b| \b\b/ \b\b- \b\b\\ \b\b| \b\b/ \b\b- \b\b\\ \b\b| \b\b/ \b\b- \b\b\\ \b\b| \b\b/ \b\b- \b\b\\ \b\b| \b\b/ \b\b- \b\b\\ \b\b| \b\b/ \b\b- \b\b\\ \b\b| \b\b/ \b\b- \b\b\\ \b\b| \b\b/ \b\b- \b\b\\ \b\b| \b\b/ \b\b- \b\b\\ \b\b| \b\b/ \b\b- \b\b\\ \b\bdone\n",
            "\n",
            "\n",
            "==> WARNING: A newer version of conda exists. <==\n",
            "  current version: 4.14.0\n",
            "  latest version: 22.9.0\n",
            "\n",
            "Please update conda by running\n",
            "\n",
            "    $ conda update -n base -c conda-forge conda\n",
            "\n",
            "\n",
            "\n",
            "Downloading and Extracting Packages\n",
            "pyqt5-sip-12.11.0    | 85 KB     | : 100% 1.0/1 [00:00<00:00,  6.15it/s]                \n",
            "pytz-2022.2.1        | 224 KB    | : 100% 1.0/1 [00:00<00:00,  5.03it/s]\n",
            "toml-0.10.2          | 18 KB     | : 100% 1.0/1 [00:00<00:00, 16.06it/s]\n",
            "typing-extensions-4. | 8 KB      | : 100% 1.0/1 [00:00<00:00, 12.77it/s]\n",
            "astropy-4.3.1        | 7.7 MB    | : 100% 1.0/1 [00:02<00:00,  2.47s/it]               \n",
            "psutil-5.9.2         | 344 KB    | : 100% 1.0/1 [00:00<00:00,  7.80it/s]\n",
            "decorator-5.1.1      | 12 KB     | : 100% 1.0/1 [00:00<00:00, 14.87it/s]\n",
            "pulseaudio-14.0      | 1.7 MB    | : 100% 1.0/1 [00:00<00:00,  1.90it/s]\n",
            "html5lib-1.1         | 89 KB     | : 100% 1.0/1 [00:00<00:00, 11.67it/s]\n",
            "lcms2-2.12           | 443 KB    | : 100% 1.0/1 [00:00<00:00,  7.42it/s]\n",
            "parso-0.8.3          | 69 KB     | : 100% 1.0/1 [00:00<00:00, 13.00it/s]\n",
            "libevent-2.1.10      | 1.1 MB    | : 100% 1.0/1 [00:00<00:00,  2.43it/s]\n",
            "xcb-util-0.4.0       | 20 KB     | : 100% 1.0/1 [00:00<00:00, 17.21it/s]\n",
            "dbus-1.13.6          | 604 KB    | : 100% 1.0/1 [00:00<00:00,  5.94it/s]\n",
            "astroquery-0.4.6     | 3.8 MB    | : 100% 1.0/1 [00:00<00:00,  1.09it/s]               \n",
            "nspr-4.32            | 233 KB    | : 100% 1.0/1 [00:00<00:00,  9.60it/s]\n",
            "nbconvert-7.0.0      | 6 KB      | : 100% 1.0/1 [00:00<00:00, 15.54it/s]\n",
            "nbformat-5.6.1       | 106 KB    | : 100% 1.0/1 [00:00<00:00, 10.06it/s]\n",
            "prompt-toolkit-3.0.3 | 254 KB    | : 100% 1.0/1 [00:00<00:00,  6.53it/s]\n",
            "prompt_toolkit-3.0.3 | 5 KB      | : 100% 1.0/1 [00:00<00:00, 25.95it/s]\n",
            "jedi-0.18.1          | 799 KB    | : 100% 1.0/1 [00:00<00:00,  1.53it/s]\n",
            "unicodedata2-14.0.0  | 496 KB    | : 100% 1.0/1 [00:00<00:00,  5.99it/s]\n",
            "gala-1.4.1           | 3.9 MB    | : 100% 1.0/1 [00:00<00:00,  1.11it/s]\n",
            "pyparsing-3.0.9      | 79 KB     | : 100% 1.0/1 [00:00<00:00, 13.90it/s]\n",
            "defusedxml-0.7.1     | 23 KB     | : 100% 1.0/1 [00:00<00:00, 20.67it/s]\n",
            "jpeg-9e              | 269 KB    | : 100% 1.0/1 [00:00<00:00,  8.80it/s]\n",
            "ptyprocess-0.7.0     | 16 KB     | : 100% 1.0/1 [00:00<00:00, 18.26it/s]\n",
            "libopus-1.3.1        | 255 KB    | : 100% 1.0/1 [00:00<00:00, 11.45it/s]\n",
            "attr-2.5.1           | 69 KB     | : 100% 1.0/1 [00:00<00:00, 14.00it/s]\n",
            "pandocfilters-1.5.0  | 11 KB     | : 100% 1.0/1 [00:00<00:00, 19.18it/s]\n",
            "ipython-7.33.0       | 1.1 MB    | : 100% 1.0/1 [00:00<00:00,  2.30it/s]\n",
            "pthread-stubs-0.4    | 5 KB      | : 100% 1.0/1 [00:00<00:00, 23.72it/s]\n",
            "importlib_metadata-4 | 4 KB      | : 100% 1.0/1 [00:00<00:00, 19.49it/s]\n",
            "openjpeg-2.5.0       | 533 KB    | : 100% 1.0/1 [00:00<00:00,  6.50it/s]\n",
            "libbrotlidec-1.0.9   | 33 KB     | : 100% 1.0/1 [00:00<00:00, 19.33it/s]\n",
            "ipykernel-6.16.0     | 100 KB    | : 100% 1.0/1 [00:00<00:00, 11.29it/s]\n",
            "qtconsole-base-5.3.2 | 91 KB     | : 100% 1.0/1 [00:00<00:00, 12.09it/s]\n",
            "jeepney-0.8.0        | 36 KB     | : 100% 1.0/1 [00:00<00:00, 16.68it/s]\n",
            "importlib_resources- | 28 KB     | : 100% 1.0/1 [00:00<00:00, 11.53it/s]\n",
            "libtiff-4.4.0        | 651 KB    | : 100% 1.0/1 [00:00<00:00,  5.53it/s]\n",
            "freetype-2.12.1      | 884 KB    | : 100% 1.0/1 [00:00<00:00,  4.26it/s]\n",
            "jaraco.classes-3.2.2 | 10 KB     | : 100% 1.0/1 [00:00<00:00, 20.50it/s]\n",
            "mysql-libs-8.0.30    | 1.9 MB    | : 100% 1.0/1 [00:00<00:00,  2.00it/s]\n",
            "send2trash-1.8.0     | 17 KB     | : 100% 1.0/1 [00:00<00:00, 14.58it/s]\n",
            "alsa-lib-1.2.6.1     | 578 KB    | : 100% 1.0/1 [00:00<00:00,  5.79it/s]\n",
            "libopenblas-0.3.21   | 10.1 MB   | : 100% 1.0/1 [00:02<00:00,  2.64s/it]\n",
            "sip-6.6.2            | 474 KB    | : 100% 1.0/1 [00:00<00:00,  4.65it/s]\n",
            "libudev1-249         | 109 KB    | : 100% 1.0/1 [00:00<00:00, 12.04it/s]\n",
            "expat-2.4.9          | 189 KB    | : 100% 1.0/1 [00:00<00:00, 12.25it/s]\n",
            "libxcb-1.13          | 391 KB    | : 100% 1.0/1 [00:00<00:00,  4.89it/s]\n",
            "portaudio-19.6.0     | 131 KB    | : 100% 1.0/1 [00:00<00:00, 12.60it/s]\n",
            "jupyter-1.0.0        | 6 KB      | : 100% 1.0/1 [00:00<00:00,  7.25it/s]\n",
            "soupsieve-2.3.2.post | 34 KB     | : 100% 1.0/1 [00:00<00:00, 10.47it/s]\n",
            "jupyter_core-4.11.1  | 81 KB     | : 100% 1.0/1 [00:00<00:00, 12.37it/s]\n",
            "libglib-2.72.1       | 3.1 MB    | : 100% 1.0/1 [00:00<00:00,  1.05it/s]               \n",
            "backports.functools_ | 9 KB      | : 100% 1.0/1 [00:00<00:00, 15.20it/s]\n",
            "secretstorage-3.3.3  | 25 KB     | : 100% 1.0/1 [00:00<00:00, 15.31it/s]\n",
            "gettext-0.19.8.1     | 3.6 MB    | : 100% 1.0/1 [00:01<00:00,  1.31s/it]               \n",
            "lxml-4.9.1           | 1.4 MB    | : 100% 1.0/1 [00:00<00:00,  2.69it/s]\n",
            "jinja2-3.1.2         | 99 KB     | : 100% 1.0/1 [00:00<00:00, 11.37it/s]\n",
            "jupyterlab_pygments- | 17 KB     | : 100% 1.0/1 [00:00<00:00, 18.06it/s]\n",
            "pandoc-2.19.2        | 12.8 MB   | : 100% 1.0/1 [00:04<00:00,  4.56s/it]               \n",
            "jupyter_console-6.4. | 23 KB     | : 100% 1.0/1 [00:00<00:00, 17.83it/s]\n",
            "xcb-util-wm-0.4.1    | 55 KB     | : 100% 1.0/1 [00:00<00:00, 14.74it/s]\n",
            "cycler-0.11.0        | 10 KB     | : 100% 1.0/1 [00:00<00:00, 17.15it/s]\n",
            "pickleshare-0.7.5    | 9 KB      | : 100% 1.0/1 [00:00<00:00, 16.58it/s]\n",
            "terminado-0.15.0     | 28 KB     | : 100% 1.0/1 [00:00<00:00,  7.99it/s]               \n",
            "python-mimeparse-1.6 | 7 KB      | : 100% 1.0/1 [00:00<00:00, 11.77it/s]\n",
            "python-dateutil-2.8. | 240 KB    | : 100% 1.0/1 [00:00<00:00, 10.58it/s]\n",
            "traitlets-5.4.0      | 85 KB     | : 100% 1.0/1 [00:00<00:00,  9.10it/s]\n",
            "xorg-libxau-1.0.9    | 13 KB     | : 100% 1.0/1 [00:00<00:00, 17.88it/s]\n",
            "libcblas-3.9.0       | 13 KB     | : 100% 1.0/1 [00:00<00:00, 13.85it/s]\n",
            "pyerfa-2.0.0.1       | 444 KB    | : 100% 1.0/1 [00:00<00:00,  6.18it/s]\n",
            "xcb-util-keysyms-0.4 | 12 KB     | : 100% 1.0/1 [00:00<00:00, 20.99it/s]\n",
            "libuuid-2.32.1       | 28 KB     | : 100% 1.0/1 [00:00<00:00, 18.17it/s]\n",
            "qt-main-5.15.4       | 61.5 MB   | : 100% 1.0/1 [00:17<00:00, 17.56s/it]               \n",
            "debugpy-1.6.3        | 2.0 MB    | : 100% 1.0/1 [00:00<00:00,  1.03it/s]               \n",
            "certifi-2022.9.24    | 155 KB    | : 100% 1.0/1 [00:00<00:00,  9.74it/s]\n",
            "tinycss2-1.1.1       | 23 KB     | : 100% 1.0/1 [00:00<00:00, 13.42it/s]\n",
            "font-ttf-dejavu-sans | 388 KB    | : 100% 1.0/1 [00:00<00:00,  8.66it/s]\n",
            "libbrotlienc-1.0.9   | 287 KB    | : 100% 1.0/1 [00:00<00:00, 10.06it/s]\n",
            "brotli-bin-1.0.9     | 19 KB     | : 100% 1.0/1 [00:00<00:00, 16.38it/s]\n",
            "pyyaml-6.0           | 178 KB    | : 100% 1.0/1 [00:00<00:00,  9.18it/s]\n",
            "fonts-conda-forge-1  | 4 KB      | : 100% 1.0/1 [00:00<00:00, 15.87it/s]\n",
            "fftw-3.3.10          | 2.2 MB    | : 100% 1.0/1 [00:00<00:00,  1.62it/s]               \n",
            "liblapack-3.9.0      | 13 KB     | : 100% 1.0/1 [00:00<00:00, 22.77it/s]\n",
            "nss-3.78             | 2.1 MB    | : 100% 1.0/1 [00:00<00:00,  1.91it/s]\n",
            "munkres-1.1.4        | 12 KB     | : 100% 1.0/1 [00:00<00:00, 17.75it/s]\n",
            "prometheus_client-0. | 49 KB     | : 100% 1.0/1 [00:00<00:00, 17.18it/s]\n",
            "gst-plugins-base-1.2 | 2.8 MB    | : 100% 1.0/1 [00:01<00:00,  1.00s/it]\n",
            "libclang-14.0.6      | 127 KB    | : 100% 1.0/1 [00:00<00:00,  9.96it/s]\n",
            "widgetsnbextension-4 | 1.6 MB    | : 100% 1.0/1 [00:00<00:00,  1.70it/s]\n",
            "bleach-5.0.1         | 124 KB    | : 100% 1.0/1 [00:00<00:00,  9.07it/s]\n",
            "xorg-libxdmcp-1.1.3  | 19 KB     | : 100% 1.0/1 [00:00<00:00, 22.33it/s]\n",
            "zipp-3.8.1           | 13 KB     | : 100% 1.0/1 [00:00<00:00, 17.47it/s]\n",
            "markupsafe-2.1.1     | 22 KB     | : 100% 1.0/1 [00:00<00:00, 18.69it/s]\n",
            "entrypoints-0.4      | 9 KB      | : 100% 1.0/1 [00:00<00:00, 14.82it/s]\n",
            "backcall-0.2.0       | 13 KB     | : 100% 1.0/1 [00:00<00:00, 14.59it/s]\n",
            "python-fastjsonschem | 242 KB    | : 100% 1.0/1 [00:00<00:00,  3.19it/s]\n",
            "beautifulsoup4-4.11. | 96 KB     | : 100% 1.0/1 [00:00<00:00, 13.07it/s]\n",
            "lerc-4.0.0           | 275 KB    | : 100% 1.0/1 [00:00<00:00,  9.84it/s]\n",
            "more-itertools-8.14. | 45 KB     | : 100% 1.0/1 [00:00<00:00, 16.95it/s]\n",
            "ply-3.11             | 44 KB     | : 100% 1.0/1 [00:00<00:00, 15.40it/s]\n",
            "numexpr-2.8.3        | 134 KB    | : 100% 1.0/1 [00:00<00:00, 11.79it/s]\n",
            "matplotlib-inline-0. | 12 KB     | : 100% 1.0/1 [00:00<00:00,  8.55it/s]\n",
            "pyrsistent-0.18.1    | 91 KB     | : 100% 1.0/1 [00:00<00:00, 12.91it/s]\n",
            "xcb-util-image-0.4.0 | 24 KB     | : 100% 1.0/1 [00:00<00:00, 18.20it/s]\n",
            "libtool-2.4.6        | 511 KB    | : 100% 1.0/1 [00:00<00:00,  4.44it/s]\n",
            "zeromq-4.3.4         | 351 KB    | : 100% 1.0/1 [00:00<00:00,  6.72it/s]\n",
            "font-ttf-ubuntu-0.83 | 1.9 MB    | : 100% 1.0/1 [00:00<00:00,  2.38it/s]\n",
            "argon2-cffi-21.3.0   | 15 KB     | : 100% 1.0/1 [00:00<00:00, 16.77it/s]\n",
            "cudatoolkit-11.1.1   | 1.20 GB   | : 100% 1.0/1 [03:29<00:00, 209.52s/it]              \n",
            "libflac-1.3.4        | 474 KB    | : 100% 1.0/1 [00:00<00:00,  4.06it/s]\n",
            "pcre-8.45            | 253 KB    | : 100% 1.0/1 [00:00<00:00,  7.05it/s]\n",
            "font-ttf-inconsolata | 94 KB     | : 100% 1.0/1 [00:00<00:00, 12.97it/s]\n",
            "setuptools-59.8.0    | 1.0 MB    | : 100% 1.0/1 [00:00<00:00,  2.70it/s]\n",
            "libclang13-14.0.6    | 10.6 MB   | : 100% 1.0/1 [00:02<00:00,  2.47s/it]               \n",
            "pyzmq-24.0.1         | 500 KB    | : 100% 1.0/1 [00:00<00:00,  4.55it/s]\n",
            "notebook-6.4.12      | 6.3 MB    | : 100% 1.0/1 [00:01<00:00,  1.85s/it]               \n",
            "fontconfig-2.14.0    | 318 KB    | : 100% 1.0/1 [00:00<00:00,  7.80it/s]\n",
            "ipywidgets-8.0.2     | 109 KB    | : 100% 1.0/1 [00:00<00:00, 13.86it/s]\n",
            "libdb-6.2.32         | 23.3 MB   | : 100% 1.0/1 [00:06<00:00,  6.79s/it]               \n",
            "typing_extensions-4. | 28 KB     | : 100% 1.0/1 [00:00<00:00, 16.01it/s]\n",
            "pkgutil-resolve-name | 9 KB      | : 100% 1.0/1 [00:00<00:00, 18.74it/s]\n",
            "pygments-2.13.0      | 821 KB    | : 100% 1.0/1 [00:00<00:00,  3.42it/s]\n",
            "qtconsole-5.3.2      | 6 KB      | : 100% 1.0/1 [00:00<00:00, 14.01it/s]\n",
            "libxkbcommon-1.0.3   | 581 KB    | : 100% 1.0/1 [00:00<00:00,  6.82it/s]\n",
            "importlib-metadata-4 | 33 KB     | : 100% 1.0/1 [00:00<00:00, 18.36it/s]\n",
            "libblas-3.9.0        | 13 KB     | : 100% 1.0/1 [00:00<00:00, 18.55it/s]\n",
            "fonttools-4.37.3     | 1.9 MB    | : 100% 1.0/1 [00:00<00:00,  1.74it/s]\n",
            "jupyterlab_widgets-3 | 222 KB    | : 100% 1.0/1 [00:00<00:00,  8.01it/s]\n",
            "pandas-1.3.5         | 12.7 MB   | : 100% 1.0/1 [00:03<00:00,  3.52s/it]               \n",
            "wcwidth-0.2.5        | 33 KB     | : 100% 1.0/1 [00:00<00:00, 15.67it/s]\n",
            "flit-core-3.7.1      | 44 KB     | : 100% 1.0/1 [00:00<00:00, 11.26it/s]\n",
            "pytables-3.7.0       | 1.9 MB    | : 100% 1.0/1 [00:00<00:00,  1.41it/s]\n",
            "libllvm14-14.0.6     | 35.2 MB   | : 100% 1.0/1 [00:07<00:00,  7.85s/it]               \n",
            "kiwisolver-1.4.4     | 73 KB     | : 100% 1.0/1 [00:00<00:00, 16.00it/s]\n",
            "libdeflate-1.14      | 81 KB     | : 100% 1.0/1 [00:00<00:00, 18.20it/s]\n",
            "matplotlib-3.5.3     | 7 KB      | : 100% 1.0/1 [00:00<00:00, 21.05it/s]\n",
            "fonts-conda-ecosyste | 4 KB      | : 100% 1.0/1 [00:00<00:00, 18.39it/s]\n",
            "attrs-22.1.0         | 48 KB     | : 100% 1.0/1 [00:00<00:00, 16.96it/s]\n",
            "libgfortran5-12.1.0  | 1.8 MB    | : 100% 1.0/1 [00:00<00:00,  2.14it/s]\n",
            "mysql-common-8.0.30  | 1.9 MB    | : 100% 1.0/1 [00:00<00:00,  1.61it/s]\n",
            "hdf5-1.12.2          | 3.5 MB    | : 100% 1.0/1 [00:00<00:00,  1.20it/s]\n",
            "libxslt-1.1.35       | 583 KB    | : 100% 1.0/1 [00:00<00:00,  3.51it/s]\n",
            "libpng-1.6.38        | 371 KB    | : 100% 1.0/1 [00:00<00:00,  7.73it/s]\n",
            "libsodium-1.0.18     | 366 KB    | : 100% 1.0/1 [00:00<00:00,  5.62it/s]               \n",
            "gstreamer-1.20.2     | 2.0 MB    | : 100% 1.0/1 [00:00<00:00,  1.45it/s]\n",
            "pyqt-5.15.7          | 6.2 MB    | : 100% 1.0/1 [00:01<00:00,  1.88s/it]               \n",
            "cached-property-1.5. | 4 KB      | : 100% 1.0/1 [00:00<00:00, 12.97it/s]\n",
            "libcap-2.64          | 96 KB     | : 100% 1.0/1 [00:00<00:00, 11.96it/s]\n",
            "numpy-1.21.6         | 6.1 MB    | : 100% 1.0/1 [00:01<00:00,  1.58s/it]               \n",
            "jack-1.9.18          | 643 KB    | : 100% 1.0/1 [00:00<00:00,  3.34it/s]\n",
            "backports-1.0        | 4 KB      | : 100% 1.0/1 [00:00<00:00, 17.81it/s]\n",
            "cached_property-1.5. | 11 KB     | : 100% 1.0/1 [00:00<00:00, 17.22it/s]\n",
            "ipython_genutils-0.2 | 21 KB     | : 100% 1.0/1 [00:00<00:00, 14.20it/s]\n",
            "packaging-21.3       | 36 KB     | : 100% 1.0/1 [00:00<00:00, 11.67it/s]\n",
            "libwebp-base-1.2.4   | 404 KB    | : 100% 1.0/1 [00:00<00:00,  7.41it/s]\n",
            "brotli-1.0.9         | 18 KB     | : 100% 1.0/1 [00:00<00:00, 17.03it/s]\n",
            "nbconvert-pandoc-7.0 | 5 KB      | : 100% 1.0/1 [00:00<00:00, 18.18it/s]\n",
            "nbconvert-core-7.0.0 | 189 KB    | : 100% 1.0/1 [00:00<00:00,  8.54it/s]\n",
            "libogg-1.3.4         | 206 KB    | : 100% 1.0/1 [00:00<00:00,  9.77it/s]\n",
            "jupyter_client-7.3.5 | 91 KB     | : 100% 1.0/1 [00:00<00:00, 11.14it/s]\n",
            "argon2-cffi-bindings | 34 KB     | : 100% 1.0/1 [00:00<00:00, 19.27it/s]\n",
            "font-ttf-source-code | 684 KB    | : 100% 1.0/1 [00:00<00:00,  5.93it/s]\n",
            "qtpy-2.2.0           | 48 KB     | : 100% 1.0/1 [00:00<00:00,  9.05it/s]\n",
            "keyring-23.9.3       | 53 KB     | : 100% 1.0/1 [00:00<00:00, 17.11it/s]\n",
            "libgfortran-ng-12.1. | 23 KB     | : 100% 1.0/1 [00:00<00:00, 20.87it/s]\n",
            "tornado-6.2          | 651 KB    | : 100% 1.0/1 [00:00<00:00,  4.30it/s]\n",
            "jsonschema-4.16.0    | 65 KB     | : 100% 1.0/1 [00:00<00:00, 12.91it/s]\n",
            "libcups-2.3.3        | 4.5 MB    | : 100% 1.0/1 [00:00<00:00,  1.48it/s]\n",
            "pyvo-1.2.1           | 735 KB    | : 100% 1.0/1 [00:00<00:00,  3.93it/s]               \n",
            "ca-certificates-2022 | 150 KB    | : 100% 1.0/1 [00:00<00:00, 13.63it/s]\n",
            "mistune-2.0.4        | 67 KB     | : 100% 1.0/1 [00:00<00:00, 10.40it/s]\n",
            "pillow-9.2.0         | 45.0 MB   | : 100% 1.0/1 [00:06<00:00,  6.37s/it]               \n",
            "snappy-1.1.9         | 35 KB     | : 100% 1.0/1 [00:00<00:00, 19.25it/s]\n",
            "nbclient-0.6.8       | 65 KB     | : 100% 1.0/1 [00:00<00:00,  6.84it/s]                \n",
            "nest-asyncio-1.5.5   | 9 KB      | : 100% 1.0/1 [00:00<00:00, 16.72it/s]\n",
            "libbrotlicommon-1.0. | 65 KB     | : 100% 1.0/1 [00:00<00:00,  7.46it/s]                \n",
            "h5py-3.7.0           | 1.3 MB    | : 100% 1.0/1 [00:00<00:00,  2.08it/s]               \n",
            "scipy-1.7.3          | 21.8 MB   | : 100% 1.0/1 [00:05<00:00,  5.95s/it]\n",
            "gsl-2.7              | 3.2 MB    | : 100% 1.0/1 [00:01<00:00,  1.30s/it]\n",
            "libpq-14.5           | 3.0 MB    | : 100% 1.0/1 [00:01<00:00,  1.09s/it]               \n",
            "webencodings-0.5.1   | 12 KB     | : 100% 1.0/1 [00:00<00:00, 10.66it/s]\n",
            "matplotlib-base-3.5. | 7.3 MB    | : 100% 1.0/1 [00:02<00:00,  2.32s/it]               \n",
            "xcb-util-renderutil- | 15 KB     | : 100% 1.0/1 [00:00<00:00, 16.47it/s]\n",
            "libsndfile-1.0.31    | 602 KB    | : 100% 1.0/1 [00:00<00:00,  4.10it/s]\n",
            "nomkl-1.0            | 4 KB      | : 100% 1.0/1 [00:00<00:00, 19.92it/s]\n",
            "libvorbis-1.3.7      | 280 KB    | : 100% 1.0/1 [00:00<00:00,  7.67it/s]\n",
            "pexpect-4.8.0        | 47 KB     | : 100% 1.0/1 [00:00<00:00, 14.67it/s]\n",
            "blosc-1.21.1         | 47 KB     | : 100% 1.0/1 [00:00<00:00, 13.02it/s]\n",
            "Preparing transaction: / \b\b- \b\b\\ \b\b| \b\b/ \b\b- \b\b\\ \b\b| \b\b/ \b\b- \b\b\\ \b\b| \b\b/ \b\b- \b\b\\ \b\b| \b\b/ \b\b- \b\b\\ \b\b| \b\b/ \b\b- \b\b\\ \b\b| \b\b/ \b\b- \b\b\\ \b\b| \b\b/ \b\bdone\n",
            "Verifying transaction: \\ \b\b| \b\b/ \b\b- \b\b\\ \b\b| \b\b/ \b\b- \b\b\\ \b\b| \b\b/ \b\b- \b\b\\ \b\b| \b\b/ \b\b- \b\b\\ \b\b| \b\b/ \b\b- \b\b\\ \b\b| \b\b/ \b\b- \b\b\\ \b\b| \b\b/ \b\b- \b\b\\ \b\b| \b\b/ \b\b- \b\b\\ \b\b| \b\b/ \b\b- \b\b\\ \b\b| \b\b/ \b\b- \b\b\\ \b\b| \b\b/ \b\b- \b\b\\ \b\b| \b\b/ \b\b- \b\b\\ \b\b| \b\b/ \b\b- \b\b\\ \b\b| \b\b/ \b\b- \b\b\\ \b\b| \b\b/ \b\b- \b\b\\ \b\b| \b\b/ \b\b- \b\b\\ \b\b| \b\b/ \b\b- \b\b\\ \b\b| \b\b/ \b\b- \b\b\\ \b\b| \b\b/ \b\b- \b\b\\ \b\b| \b\bdone\n",
            "Executing transaction: - \b\b\\ \b\b| \b\b/ \b\b- \b\b\\ \b\b| \b\b/ \b\b- \b\b\\ \b\b| \b\b/ \b\b- \b\b\\ \b\b| \b\b/ \b\b- \b\b\\ \b\b| \b\b/ \b\b- \b\b\\ \b\b| \b\b/ \b\b- \b\b\\ \b\b| \b\b/ \b\b- \b\b\\ \b\b| \b\b/ \b\b- \b\b\\ \b\b| \b\b/ \b\b- \b\b\\ \b\b| \b\b/ \b\b- \b\b\\ \b\b| \b\b/ \b\b- \b\b\\ \b\b| \b\b/ \b\b- \b\b\\ \b\b| \b\b/ \b\b- \b\b\\ \b\b| \b\b/ \b\b- \b\b\\ \b\b| \b\b/ \b\b- \b\b\\ \b\b| \b\b/ \b\b- \b\b\\ By downloading and using the CUDA Toolkit conda packages, you accept the terms and conditions of the CUDA End User License Agreement (EULA): https://docs.nvidia.com/cuda/eula/index.html\n",
            "\n",
            "\b\b| \b\b/ \b\b- \b\b\\ \b\b| \b\b/ \b\b- \b\b\\ \b\b| \b\b/ \b\b- \b\b\\ \b\b| \b\b/ \b\b- \b\b\\ \b\b| \b\b/ \b\b- \b\b\\ \b\b| \b\b/ \b\b- \b\b\\ \b\b| \b\b/ \b\b- \b\b\\ \b\b| \b\b/ \b\b- \b\b\\ \b\b| \b\b/ \b\b- \b\b\\ \b\b| \b\b/ \b\b- \b\b\\ \b\b| \b\b/ \b\b- \b\b\\ \b\b| \b\b/ \b\b- \b\b\\ \b\b| \b\b/ \b\b- \b\b\\ \b\b| \b\b/ \b\b- \b\b\\ \b\b| \b\b/ \b\b- \b\b\\ \b\b| \b\b/ \b\b- \b\bdone\n",
            "#\n",
            "# To activate this environment, use\n",
            "#\n",
            "#     $ conda activate base\n",
            "#\n",
            "# To deactivate an active environment, use\n",
            "#\n",
            "#     $ conda deactivate\n",
            "\n",
            "Retrieving notices: ...working... done\n"
          ]
        }
      ]
    },
    {
      "cell_type": "markdown",
      "source": [
        "The main object of the Carpentries lesson is to connect with and query the [Gaia database.](https://https://gea.esac.esa.int/archive/) Now that we've created our environment, we should be able to make that connection with the following command. Note: if the command works properly, you'll see a green checkmark to the left indicating that the code was run, but you won't see any output."
      ],
      "metadata": {
        "id": "K2pEfwg8riv0"
      }
    },
    {
      "cell_type": "code",
      "source": [
        "from astroquery.gaia import Gaia"
      ],
      "metadata": {
        "id": "K4YBB-E9leCZ"
      },
      "execution_count": null,
      "outputs": []
    },
    {
      "cell_type": "markdown",
      "source": [
        "Let's go ahead and test our connection to Gaia by retreiving some info from the database. "
      ],
      "metadata": {
        "id": "tb9fMGt-sAdC"
      }
    },
    {
      "cell_type": "code",
      "source": [
        "tables = Gaia.load_tables(only_names=True)"
      ],
      "metadata": {
        "colab": {
          "base_uri": "https://localhost:8080/"
        },
        "id": "1r9V3OBjmgQ-",
        "outputId": "1a636a7e-77f6-4291-da76-d5c758ec4f08"
      },
      "execution_count": null,
      "outputs": [
        {
          "output_type": "stream",
          "name": "stdout",
          "text": [
            "INFO: Retrieving tables... [astroquery.utils.tap.core]\n",
            "INFO: Parsing tables... [astroquery.utils.tap.core]\n",
            "INFO: Done. [astroquery.utils.tap.core]\n"
          ]
        }
      ]
    },
    {
      "cell_type": "code",
      "source": [
        "for table in tables:\n",
        "    print(table.name)"
      ],
      "metadata": {
        "colab": {
          "base_uri": "https://localhost:8080/"
        },
        "id": "7R-G283VvzO1",
        "outputId": "d37f2d03-8570-4d50-c79a-3841e517a1bd"
      },
      "execution_count": null,
      "outputs": [
        {
          "output_type": "stream",
          "name": "stdout",
          "text": [
            "external.apassdr9\n",
            "external.gaiadr2_astrophysical_parameters\n",
            "external.gaiadr2_geometric_distance\n",
            "external.gaiaedr3_distance\n",
            "external.gaiaedr3_gcns_main_1\n",
            "external.gaiaedr3_gcns_rejected_1\n",
            "external.gaiaedr3_spurious\n",
            "external.galex_ais\n",
            "external.ravedr5_com\n",
            "external.ravedr5_dr5\n",
            "external.ravedr5_gra\n",
            "external.ravedr5_on\n",
            "external.ravedr6\n",
            "external.sdssdr13_photoprimary\n",
            "external.skymapperdr1_master\n",
            "external.skymapperdr2_master\n",
            "external.tmass_xsc\n",
            "gaiadr1.aux_qso_icrf2_match\n",
            "gaiadr1.ext_phot_zero_point\n",
            "gaiadr1.allwise_best_neighbour\n",
            "gaiadr1.allwise_neighbourhood\n",
            "gaiadr1.gsc23_best_neighbour\n",
            "gaiadr1.gsc23_neighbourhood\n",
            "gaiadr1.ppmxl_best_neighbour\n",
            "gaiadr1.ppmxl_neighbourhood\n",
            "gaiadr1.sdss_dr9_best_neighbour\n",
            "gaiadr1.sdss_dr9_neighbourhood\n",
            "gaiadr1.tmass_best_neighbour\n",
            "gaiadr1.tmass_neighbourhood\n",
            "gaiadr1.ucac4_best_neighbour\n",
            "gaiadr1.ucac4_neighbourhood\n",
            "gaiadr1.urat1_best_neighbour\n",
            "gaiadr1.urat1_neighbourhood\n",
            "gaiadr1.cepheid\n",
            "gaiadr1.phot_variable_time_series_gfov\n",
            "gaiadr1.phot_variable_time_series_gfov_statistical_parameters\n",
            "gaiadr1.rrlyrae\n",
            "gaiadr1.variable_summary\n",
            "gaiadr1.allwise_original_valid\n",
            "gaiadr1.gsc23_original_valid\n",
            "gaiadr1.ppmxl_original_valid\n",
            "gaiadr1.sdssdr9_original_valid\n",
            "gaiadr1.tmass_original_valid\n",
            "gaiadr1.ucac4_original_valid\n",
            "gaiadr1.urat1_original_valid\n",
            "gaiadr1.gaia_source\n",
            "gaiadr1.tgas_source\n",
            "gaiadr2.aux_allwise_agn_gdr2_cross_id\n",
            "gaiadr2.aux_iers_gdr2_cross_id\n",
            "gaiadr2.aux_sso_orbit_residuals\n",
            "gaiadr2.aux_sso_orbits\n",
            "gaiadr2.dr1_neighbourhood\n",
            "gaiadr2.allwise_best_neighbour\n",
            "gaiadr2.allwise_neighbourhood\n",
            "gaiadr2.apassdr9_best_neighbour\n",
            "gaiadr2.apassdr9_neighbourhood\n",
            "gaiadr2.gsc23_best_neighbour\n",
            "gaiadr2.gsc23_neighbourhood\n",
            "gaiadr2.hipparcos2_best_neighbour\n",
            "gaiadr2.hipparcos2_neighbourhood\n",
            "gaiadr2.panstarrs1_best_neighbour\n",
            "gaiadr2.panstarrs1_neighbourhood\n",
            "gaiadr2.ppmxl_best_neighbour\n",
            "gaiadr2.ppmxl_neighbourhood\n",
            "gaiadr2.ravedr5_best_neighbour\n",
            "gaiadr2.ravedr5_neighbourhood\n",
            "gaiadr2.sdssdr9_best_neighbour\n",
            "gaiadr2.sdssdr9_neighbourhood\n",
            "gaiadr2.tmass_best_neighbour\n",
            "gaiadr2.tmass_neighbourhood\n",
            "gaiadr2.tycho2_best_neighbour\n",
            "gaiadr2.tycho2_neighbourhood\n",
            "gaiadr2.urat1_best_neighbour\n",
            "gaiadr2.urat1_neighbourhood\n",
            "gaiadr2.sso_observation\n",
            "gaiadr2.sso_source\n",
            "gaiadr2.vari_cepheid\n",
            "gaiadr2.vari_classifier_class_definition\n",
            "gaiadr2.vari_classifier_definition\n",
            "gaiadr2.vari_classifier_result\n",
            "gaiadr2.vari_long_period_variable\n",
            "gaiadr2.vari_rotation_modulation\n",
            "gaiadr2.vari_rrlyrae\n",
            "gaiadr2.vari_short_timescale\n",
            "gaiadr2.vari_time_series_statistics\n",
            "gaiadr2.panstarrs1_original_valid\n",
            "gaiadr2.gaia_source\n",
            "gaiadr2.ruwe\n",
            "gaiadr3.gaia_source\n",
            "gaiadr3.gaia_source_lite\n",
            "gaiadr3.astrophysical_parameters\n",
            "gaiadr3.astrophysical_parameters_supp\n",
            "gaiadr3.oa_neuron_information\n",
            "gaiadr3.oa_neuron_xp_spectra\n",
            "gaiadr3.total_galactic_extinction_map\n",
            "gaiadr3.total_galactic_extinction_map_opt\n",
            "gaiadr3.commanded_scan_law\n",
            "gaiadr3.allwise_best_neighbour\n",
            "gaiadr3.allwise_neighbourhood\n",
            "gaiadr3.apassdr9_best_neighbour\n",
            "gaiadr3.apassdr9_join\n",
            "gaiadr3.apassdr9_neighbourhood\n",
            "gaiadr3.dr2_neighbourhood\n",
            "gaiadr3.gsc23_best_neighbour\n",
            "gaiadr3.gsc23_join\n",
            "gaiadr3.gsc23_neighbourhood\n",
            "gaiadr3.hipparcos2_best_neighbour\n",
            "gaiadr3.hipparcos2_neighbourhood\n",
            "gaiadr3.panstarrs1_best_neighbour\n",
            "gaiadr3.panstarrs1_join\n",
            "gaiadr3.panstarrs1_neighbourhood\n",
            "gaiadr3.ravedr5_best_neighbour\n",
            "gaiadr3.ravedr5_join\n",
            "gaiadr3.ravedr5_neighbourhood\n",
            "gaiadr3.ravedr6_best_neighbour\n",
            "gaiadr3.ravedr6_join\n",
            "gaiadr3.ravedr6_neighbourhood\n",
            "gaiadr3.sdssdr13_best_neighbour\n",
            "gaiadr3.sdssdr13_join\n",
            "gaiadr3.sdssdr13_neighbourhood\n",
            "gaiadr3.skymapperdr2_best_neighbour\n",
            "gaiadr3.skymapperdr2_join\n",
            "gaiadr3.skymapperdr2_neighbourhood\n",
            "gaiadr3.tmass_psc_xsc_best_neighbour\n",
            "gaiadr3.tmass_psc_xsc_join\n",
            "gaiadr3.tmass_psc_xsc_neighbourhood\n",
            "gaiadr3.tycho2tdsc_merge_best_neighbour\n",
            "gaiadr3.tycho2tdsc_merge_neighbourhood\n",
            "gaiadr3.urat1_best_neighbour\n",
            "gaiadr3.urat1_neighbourhood\n",
            "gaiadr3.galaxy_candidates\n",
            "gaiadr3.galaxy_catalogue_name\n",
            "gaiadr3.qso_candidates\n",
            "gaiadr3.qso_catalogue_name\n",
            "gaiadr3.nss_acceleration_astro\n",
            "gaiadr3.nss_non_linear_spectro\n",
            "gaiadr3.nss_two_body_orbit\n",
            "gaiadr3.nss_vim_fl\n",
            "gaiadr3.binary_masses\n",
            "gaiadr3.gold_sample_carbon_stars\n",
            "gaiadr3.gold_sample_fgkm_stars\n",
            "gaiadr3.gold_sample_oba_stars\n",
            "gaiadr3.gold_sample_solar_analogues\n",
            "gaiadr3.gold_sample_spss\n",
            "gaiadr3.gold_sample_ucd\n",
            "gaiadr3.sso_orbits\n",
            "gaiadr3.synthetic_photometry_gspc\n",
            "gaiadr3.agn_cross_id\n",
            "gaiadr3.frame_rotator_source\n",
            "gaiadr3.gaia_crf3_xm\n",
            "gaiadr3.alerts_mixedin_sourceids\n",
            "gaiadr3.science_alerts\n",
            "gaiadr3.gaia_source_simulation\n",
            "gaiadr3.gaia_universe_model\n",
            "gaiadr3.sso_observation\n",
            "gaiadr3.sso_reflectance_spectrum\n",
            "gaiadr3.sso_source\n",
            "gaiadr3.xp_summary\n",
            "gaiadr3.vari_agn\n",
            "gaiadr3.vari_cepheid\n",
            "gaiadr3.vari_classifier_class_definition\n",
            "gaiadr3.vari_classifier_definition\n",
            "gaiadr3.vari_classifier_result\n",
            "gaiadr3.vari_compact_companion\n",
            "gaiadr3.vari_eclipsing_binary\n",
            "gaiadr3.vari_epoch_radial_velocity\n",
            "gaiadr3.vari_long_period_variable\n",
            "gaiadr3.vari_microlensing\n",
            "gaiadr3.vari_ms_oscillator\n",
            "gaiadr3.vari_planetary_transit\n",
            "gaiadr3.vari_rad_vel_statistics\n",
            "gaiadr3.vari_rotation_modulation\n",
            "gaiadr3.vari_rrlyrae\n",
            "gaiadr3.vari_short_timescale\n",
            "gaiadr3.vari_summary\n",
            "gaiadr3.tycho2tdsc_merge\n",
            "gaiaedr3.gaia_source\n",
            "gaiaedr3.agn_cross_id\n",
            "gaiaedr3.commanded_scan_law\n",
            "gaiaedr3.dr2_neighbourhood\n",
            "gaiaedr3.frame_rotator_source\n",
            "gaiaedr3.allwise_best_neighbour\n",
            "gaiaedr3.allwise_neighbourhood\n",
            "gaiaedr3.apassdr9_best_neighbour\n",
            "gaiaedr3.apassdr9_join\n",
            "gaiaedr3.apassdr9_neighbourhood\n",
            "gaiaedr3.gsc23_best_neighbour\n",
            "gaiaedr3.gsc23_join\n",
            "gaiaedr3.gsc23_neighbourhood\n",
            "gaiaedr3.hipparcos2_best_neighbour\n",
            "gaiaedr3.hipparcos2_neighbourhood\n",
            "gaiaedr3.panstarrs1_best_neighbour\n",
            "gaiaedr3.panstarrs1_join\n",
            "gaiaedr3.panstarrs1_neighbourhood\n",
            "gaiaedr3.ravedr5_best_neighbour\n",
            "gaiaedr3.ravedr5_join\n",
            "gaiaedr3.ravedr5_neighbourhood\n",
            "gaiaedr3.sdssdr13_best_neighbour\n",
            "gaiaedr3.sdssdr13_join\n",
            "gaiaedr3.sdssdr13_neighbourhood\n",
            "gaiaedr3.skymapperdr2_best_neighbour\n",
            "gaiaedr3.skymapperdr2_join\n",
            "gaiaedr3.skymapperdr2_neighbourhood\n",
            "gaiaedr3.tmass_psc_xsc_best_neighbour\n",
            "gaiaedr3.tmass_psc_xsc_join\n",
            "gaiaedr3.tmass_psc_xsc_neighbourhood\n",
            "gaiaedr3.tycho2tdsc_merge_best_neighbour\n",
            "gaiaedr3.tycho2tdsc_merge_neighbourhood\n",
            "gaiaedr3.urat1_best_neighbour\n",
            "gaiaedr3.urat1_neighbourhood\n",
            "gaiaedr3.gaia_source_simulation\n",
            "gaiaedr3.gaia_universe_model\n",
            "gaiaedr3.tycho2tdsc_merge\n",
            "public.hipparcos\n",
            "public.hipparcos_newreduction\n",
            "public.hubble_sc\n",
            "public.igsl_source\n",
            "public.igsl_source_catalog_ids\n",
            "public.tycho2\n",
            "public.dual\n",
            "tap_config.coord_sys\n",
            "tap_config.properties\n",
            "tap_schema.columns\n",
            "tap_schema.key_columns\n",
            "tap_schema.keys\n",
            "tap_schema.schemas\n",
            "tap_schema.tables\n"
          ]
        }
      ]
    },
    {
      "cell_type": "code",
      "source": [
        "table_metadata = Gaia.load_table('gaiadr2.gaia_source')\n",
        "table_metadata"
      ],
      "metadata": {
        "colab": {
          "base_uri": "https://localhost:8080/"
        },
        "id": "omC2Eqwjv-jB",
        "outputId": "b58afb30-c5d6-4a25-cf68-2c41533f47f4"
      },
      "execution_count": null,
      "outputs": [
        {
          "output_type": "stream",
          "name": "stdout",
          "text": [
            "Retrieving table 'gaiadr2.gaia_source'\n"
          ]
        },
        {
          "output_type": "execute_result",
          "data": {
            "text/plain": [
              "<astroquery.utils.tap.model.taptable.TapTableMeta at 0x7f3affbf3d50>"
            ]
          },
          "metadata": {},
          "execution_count": 10
        }
      ]
    },
    {
      "cell_type": "code",
      "source": [
        "print(table_metadata)"
      ],
      "metadata": {
        "colab": {
          "base_uri": "https://localhost:8080/"
        },
        "id": "SXVuY4howDDy",
        "outputId": "6ff78dc5-4027-4840-d298-e6a33d95056e"
      },
      "execution_count": null,
      "outputs": [
        {
          "output_type": "stream",
          "name": "stdout",
          "text": [
            "TAP Table name: gaiadr2.gaiadr2.gaia_source\n",
            "Description: This table has an entry for every Gaia observed source as listed in the\n",
            "Main Database accumulating catalogue version from which the catalogue\n",
            "release has been generated. It contains the basic source parameters,\n",
            "that is only final data (no epoch data) and no spectra (neither final\n",
            "nor epoch).\n",
            "Num. columns: 95\n"
          ]
        }
      ]
    },
    {
      "cell_type": "code",
      "source": [
        "query1 = \"\"\"SELECT \n",
        "TOP 10\n",
        "source_id, ra, dec, parallax \n",
        "FROM gaiadr2.gaia_source\n",
        "\"\"\""
      ],
      "metadata": {
        "id": "eV4XeC3XxPhJ"
      },
      "execution_count": null,
      "outputs": []
    },
    {
      "cell_type": "code",
      "source": [
        "job1 = Gaia.launch_job(query1)\n",
        "job1"
      ],
      "metadata": {
        "colab": {
          "base_uri": "https://localhost:8080/"
        },
        "id": "9PfZvaBbxjXa",
        "outputId": "63ef88ef-4f95-4ab4-cda1-309aaf6fe2ce"
      },
      "execution_count": null,
      "outputs": [
        {
          "output_type": "execute_result",
          "data": {
            "text/plain": [
              "<astroquery.utils.tap.model.job.Job at 0x7f3b0fd1e550>"
            ]
          },
          "metadata": {},
          "execution_count": 13
        }
      ]
    },
    {
      "cell_type": "code",
      "source": [
        "print(job1)"
      ],
      "metadata": {
        "colab": {
          "base_uri": "https://localhost:8080/"
        },
        "id": "P2ktsVY6yJ7K",
        "outputId": "af3a7a19-76b4-4a1e-dbd8-7acff7b8be89"
      },
      "execution_count": null,
      "outputs": [
        {
          "output_type": "stream",
          "name": "stdout",
          "text": [
            "<Table length=10>\n",
            "   name    dtype  unit                            description                            \n",
            "--------- ------- ---- ------------------------------------------------------------------\n",
            "source_id   int64      Unique source identifier (unique within a particular Data Release)\n",
            "       ra float64  deg                                                    Right ascension\n",
            "      dec float64  deg                                                        Declination\n",
            " parallax float64  mas                                                           Parallax\n",
            "Jobid: None\n",
            "Phase: COMPLETED\n",
            "Owner: None\n",
            "Output file: 1664396856873O-result.vot.gz\n",
            "Results: None\n"
          ]
        }
      ]
    }
  ]
}
